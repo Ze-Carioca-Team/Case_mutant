{
  "nbformat": 4,
  "nbformat_minor": 0,
  "metadata": {
    "colab": {
      "name": "Case Mutant",
      "provenance": [],
      "collapsed_sections": []
    },
    "kernelspec": {
      "name": "python3",
      "display_name": "Python 3"
    },
    "language_info": {
      "name": "python"
    }
  },
  "cells": [
    {
      "cell_type": "code",
      "execution_count": 100,
      "metadata": {
        "colab": {
          "base_uri": "https://localhost:8080/"
        },
        "id": "fEXaUVDmPl6S",
        "outputId": "b783447d-318a-4d95-d3f4-fcc9a69ca152"
      },
      "outputs": [
        {
          "output_type": "stream",
          "name": "stdout",
          "text": [
            "--2022-04-20 16:21:57--  https://raw.githubusercontent.com/Ze-Carioca-Team/Case_mutant/main/stories_generator.py\n",
            "Resolving raw.githubusercontent.com (raw.githubusercontent.com)... 185.199.110.133, 185.199.108.133, 185.199.111.133, ...\n",
            "Connecting to raw.githubusercontent.com (raw.githubusercontent.com)|185.199.110.133|:443... connected.\n",
            "HTTP request sent, awaiting response... 200 OK\n",
            "Length: 3215 (3.1K) [text/plain]\n",
            "Saving to: ‘stories_generator.py.1’\n",
            "\n",
            "stories_generator.p 100%[===================>]   3.14K  --.-KB/s    in 0s      \n",
            "\n",
            "2022-04-20 16:21:58 (55.0 MB/s) - ‘stories_generator.py.1’ saved [3215/3215]\n",
            "\n"
          ]
        }
      ],
      "source": [
        "! wget https://raw.githubusercontent.com/Ze-Carioca-Team/Case_mutant/main/stories_generator.py\n",
        "# ! pip install gerador-endereco --upgrade -q"
      ]
    },
    {
      "cell_type": "code",
      "source": [
        "import stories_generator\n",
        "import numpy as np\n",
        "import random\n",
        "import string\n",
        "import json"
      ],
      "metadata": {
        "id": "zqvHYLfAP6lh"
      },
      "execution_count": 113,
      "outputs": []
    },
    {
      "cell_type": "code",
      "source": [
        "pizzas_disponiveis = [\n",
        "                        \"Calabresa\",\n",
        "                        \"Portuguesa\",\n",
        "                        \"Muçarela\",\n",
        "                        \"Marguerita\",\n",
        "                        \"Quatro queijos\",\n",
        "                        \"Frango com catupiry\",\n",
        "                        \"Alcachofra\",\n",
        "                        \"Mexicana\",\n",
        "                        \"Francesa\",\n",
        "                        \"Parma com rúcula\",\n",
        "                        \"Caprese\",\n",
        "                        \"Alho Negro\",\n",
        "                        \"Scamorza\",\n",
        "                        \"Califórnia\",\n",
        "                        \"Americana\",\n",
        "                        \"Camarão\",\n",
        "                        \"Atum\",\n",
        "                        \"Pepperoni\",\n",
        "                        \"Palmito e Brócolis\",\n",
        "                        \"Pimentão e Azeitona\",\n",
        "                        \"Rúcula\",\n",
        "                        \"Abobrinha com requeijão\",\n",
        "                        \"Palmito e champignon\",\n",
        "                        \"Alho e óleo\",\n",
        "                        \"Repolho\",\n",
        "                        \"Cebola caramelizada\",\n",
        "                        \"Abobrinha com aveia\",\n",
        "                        \"Brócolis e peito de peru\",\n",
        "                        \"Berinjela e abobrinha\",\n",
        "                        \"Champignon e manjericão\",\n",
        "                        \"Calabresa com cheddar\",\n",
        "                        \"Presunto com cheddar\",\n",
        "                        \"Frango com cheddar\",\n",
        "                        \"Canadense\",\n",
        "                        \"Escarola\",\n",
        "                        \"Siciliana\",\n",
        "                        \"Tribeca\",\n",
        "                        \"Al Capone\",\n",
        "                        \"Estrogonofe\",\n",
        "                        \"Palmito com catupiry\",\n",
        "                        \"Jardineira\",\n",
        "                        \"Atum com palmito\",\n",
        "                        \"Peito de peru e champignon\",\n",
        "                        \"Carne seca com cream cheese\",\n",
        "                        \"Peito de peru com cream cheese\",\n",
        "                        \"Atum com cream cheese e alho-poró\",\n",
        "                        \"Cream cheese com abobrinha\",\n",
        "                        \"Frango com palmito\",\n",
        "                        \"Frango à parmegiana\",\n",
        "                        \"Caipira\",\n",
        "]"
      ],
      "metadata": {
        "id": "Ti6HjCkTJRt1"
      },
      "execution_count": 102,
      "outputs": []
    },
    {
      "cell_type": "code",
      "source": [
        "list_bairros = ['Aclimação', 'Alto da Lapa', 'Alto da Mooca', 'Alto de Pinheiros', 'Altos de Vila Prudente', 'Americanópolis', 'Balneário Mar Paulista', 'Barra Funda', 'Bela Vista', 'Belenzinho', 'Bom Retiro', 'Bortolândia', 'Brasilândia', 'Brooklin Paulista', 'Brás', 'Cambuci', 'Campo Belo', 'Cantinho do Céu', 'Capela do Socorro', 'Capão do Embira', 'Caxingui', 'Centro', 'Chácara Belenzinho', 'Chácara Gaivotas', 'Chácara Itaim', 'Chácara Santo Antônio (Zona Sul)', 'Chácara São João', 'Cidade Ademar', 'Cidade Dutra', 'Cidade Luz', 'Cidade Mãe do Céu', 'Cidade Nova América', 'Cidade Nova Heliópolis', 'Cidade Patriarca', 'Cidade Satélite Santa Bárbara', 'Cidade São Mateus', 'Cidade Tiradentes', 'Condomínio Jequirituba', 'Conjunto Habitacional Fazenda do Carmo', 'Conjunto Habitacional Instituto Adventista', 'Conjunto Habitacional Marechal Mascarenhas de Morais', 'Conjunto Habitacional Santa Etelvina II', 'Conjunto Habitacional Sitio Conceição', 'Conjunto Habitacional Turística', 'Conjunto Promorar Sapopemba', 'Conjunto Promorar São Luis', 'Conjunto Residencial José Bonifácio', 'Conjunto Residencial Paraíso', 'Eldorado', 'Engenheiro Marsilac', 'Granja Julieta', 'Higienópolis', 'Instituto de Previdência', 'Interlagos', 'Ipiranga', 'Itaberaba', 'Itaim Paulista', 'Itaquera', 'Itupu', 'Jabaquara', 'Jaguaré', 'Jardim Alfredo', 'Jardim Almeida', 'Jardim Almeida Prado', 'Jardim Alto Pedroso', 'Jardim Alvorada (Zona Sul)', 'Jardim Ana Lúcia', 'Jardim Antártica', 'Jardim Apurá', 'Jardim Aracati', 'Jardim Aristocrata', 'Jardim Avenida', 'Jardim Belém', 'Jardim Botucatu', 'Jardim Cachoeira', 'Jardim Caguassu', 'Jardim Campo Limpo (Zona Norte)', 'Jardim Campos', 'Jardim Cinco de Julho', 'Jardim Cleide', 'Jardim Clímax', 'Jardim Colibri', 'Jardim Colombo', 'Jardim Colorado', 'Jardim Denise', 'Jardim Dona Deolinda', 'Jardim Edith', 'Jardim Elisa Maria', 'Jardim Eliza', 'Jardim Elizabeth', 'Jardim Europa', 'Jardim Eva', 'Jardim Flor de Maio', 'Jardim Franca', 'Jardim Gilda Maria', 'Jardim Gonzaga', 'Jardim Guarapiranga', 'Jardim Guarujá', 'Jardim Guedala', 'Jardim Helena', 'Jardim Heloisa', 'Jardim Imperador (Zona Leste)', 'Jardim Indaiá', 'Jardim Irapiranga', 'Jardim Itapemirim', 'Jardim Japão', 'Jardim Jaú (Zona Leste)', 'Jardim Lajeado', 'Jardim Los Angeles', 'Jardim Lourdes', 'Jardim Luzitânia', 'Jardim Lídia', 'Jardim Lúcia', 'Jardim Marabá', 'Jardim Marajoara', 'Jardim Maria Duarte', 'Jardim Maria Estela', 'Jardim Maria Luiza', 'Jardim Maria Rita', 'Jardim Marília', 'Jardim Miriam', 'Jardim Monjolo', 'Jardim Monte Azul', 'Jardim Monte Verde', 'Jardim Nelia IV', 'Jardim Noronha', 'Jardim Nova Conquista', 'Jardim Nove de Julho', 'Jardim Nélia', 'Jardim Oriental', 'Jardim Palmares (Zona Sul)', 'Jardim Papai Noel', 'Jardim Paulista', 'Jardim Porteira Grande', 'Jardim Prainha', 'Jardim Previdência', 'Jardim Primavera (Zona Sul)', 'Jardim Pérola III', 'Jardim Raposo Tavares', 'Jardim Reimberg', 'Jardim Rizzo', 'Jardim Rubio', 'Jardim Santa Adélia', 'Jardim Santa Edwiges (Capela do Socorro)', 'Jardim Santa Etelvina', 'Jardim Santa Lucrécia', 'Jardim Santa Margarida', 'Jardim Santa Maria', 'Jardim Santa Terezinha (Parelheiros)', 'Jardim Santo Elias (São Miguel)', 'Jardim Silva Teles', 'Jardim São Bento', 'Jardim São Bento Novo', 'Jardim São Carlos (Zona Leste)', 'Jardim São Francisco', 'Jardim São Manoel', 'Jardim São Paulo(Zona Leste)', 'Jardim São Paulo(Zona Norte)', 'Jardim São Savério', 'Jardim São Vicente', 'Jardim Sônia (Zona Sul)', 'Jardim Taboão', 'Jardim Taipas', 'Jardim Taquaral', 'Jardim Textil', 'Jardim Triana', 'Jardim Trussardi', 'Jardim Três Marias', 'Jardim Vera Cruz', 'Jardim Vera Cruz(Zona Leste)', 'Jardim Vergueiro (Sacomã)', 'Jardim Virginia Bianca', 'Jardim Vista Alegre', 'Jardim Vivan', 'Jardim da Laranjeira (Zona Leste)', 'Jardim da Pedreira', 'Jardim das Acácias', 'Jardim das Camélias', 'Jardim das Laranjeiras', 'Jardim das Vertentes', 'Jardim dos Eucaliptos', 'Lajeado', 'Lapa', 'Luz', 'Mooca', 'Parada Inglesa', 'Parada XV de Novembro', 'Paraisópolis', 'Paraíso', 'Parque Boa Esperança', 'Parque Boturussu', 'Parque Casa de Pedra', 'Parque Cocaia', 'Parque Colonial', 'Parque Continental', 'Parque Cruzeiro do Sul', 'Parque Grajaú', 'Parque Guaianazes', 'Parque Jabaquara', 'Parque Mandaqui', 'Parque Novo Mundo', 'Parque Peruche', 'Parque Primavera', 'Parque Ramos Freitas', 'Parque Recreio', 'Parque Regina', 'Parque Savoy City', 'Parque São Domingos', 'Parque São Lucas', 'Parque São Luís', 'Parque São Rafael', 'Parque da Vila Prudente', 'Parque das Flores', 'Penha de França', 'Pinheiros', 'Piqueri', 'Pirituba', 'Planalto Paulista', 'Praia Azul', 'Real Parque', 'Recanto Verde do Sol', 'Residencial Sol Nascente', 'Rio Pequeno', 'Sacomã', 'Santa Amélia', 'Santa Cecília', 'Santana', 'Santo Amaro', 'Saúde', 'Siciliano', 'Sumarezinho', 'Super Quadra Morumbi', 'São João Clímaco', 'São Judas', 'São Miguel Paulista', 'Sé', 'Sítio Itaberaba II', 'Tatuapé', 'Terceira Divisão', 'Tremembé', 'Valo Velho', 'Vila Albertina', 'Vila Amélia', 'Vila Ana Rosa', 'Vila Anastácio', 'Vila Antonieta', 'Vila Aricanduva', 'Vila Aurora', 'Vila Bancária Munhoz', 'Vila Barbosa', 'Vila Baruel', 'Vila Bela', 'Vila Bela Vista (Zona Norte)', 'Vila Boaçava', 'Vila Bonilha', 'Vila Butantã', 'Vila Caiúba', 'Vila Caju', 'Vila Campanela', 'Vila Campo Grande', 'Vila Carmosina', 'Vila Carrão', 'Vila Cavaton', 'Vila Clara', 'Vila Clementino', 'Vila Conceição', 'Vila Congonhas', 'Vila Constança', 'Vila Continental', 'Vila Cosmopolita', 'Vila Cruzeiro', 'Vila Curuçá', 'Vila Dalva', 'Vila Dom Pedro I', 'Vila Dom Pedro II', 'Vila Domitila', 'Vila Esperança', 'Vila Fachini', 'Vila Firmiano Pinto', 'Vila Formosa', 'Vila Francos', 'Vila Germinal', 'Vila Gil', 'Vila Gomes Cardim', 'Vila Guilherme', 'Vila Guilhermina', 'Vila Gumercindo', 'Vila Gustavo', 'Vila Hebe', 'Vila Heliópolis', 'Vila Iolanda(Lajeado)', 'Vila Ipojuca', 'Vila Itaberaba', 'Vila Ivone', 'Vila Jaguara', 'Vila Lageado', 'Vila Laís', 'Vila Liviero', 'Vila Londrina', 'Vila Madalena', 'Vila Marari', 'Vila Maria', 'Vila Maria Alta', 'Vila Maria Baixa', 'Vila Mariana', 'Vila Matilde', 'Vila Mazzei', 'Vila Medeiros', 'Vila Monumento', 'Vila Moraes', 'Vila Moreira', 'Vila Morse', 'Vila Nancy', 'Vila Nhocune', 'Vila Nina', 'Vila Nivi', 'Vila Nova Conceição', 'Vila Nova Jaguaré', 'Vila Nova Utinga', 'Vila Olímpia', 'Vila Paiva', 'Vila Palmeiras', 'Vila Paranaguá', 'Vila Parque Jabaquara', 'Vila Paulicéia', 'Vila Paulo Silas', 'Vila Pedra Branca', 'Vila Pedroso', 'Vila Pirajussara', 'Vila Pita', 'Vila Ponte Rasa', 'Vila Prudente', 'Vila Regente Feijó', 'Vila Regina ( Zona Leste)', 'Vila Rui Barbosa', 'Vila Ré', 'Vila Sabrina', 'Vila Salete', 'Vila Santa Inês', 'Vila Santa Lúcia', 'Vila Santa Maria', 'Vila Santa Terezinha (Zona Norte)', 'Vila Sapopemba', 'Vila Sofia', 'Vila Souza', 'Vila São Francisco (Zona Leste)', 'Vila São Luís(Zona Oeste)', 'Vila Sílvia', 'Vila Tolstoi', 'Vila União (Zona Leste)', 'Vila Zilda (Tatuapé)', 'Vila da Paz', 'Vila das Mercês', 'Vila do Encontro', 'Vila do Sol', 'Vila dos Remédios', 'Vila Água Funda', 'Água Branca', 'Água Fria', 'Alphaville', 'Centro', 'Centro Prisional', 'Chácara Terra Branca', 'Chácaras Bauruenses', 'Chácaras Urupês', 'Cidade Jardim', 'Conjunto Habitacional Darcy César Improta', 'Conjunto Habitacional Engenheiro Otávio Rasi', 'Conjunto Habitacional Pastor Arlindo Lopes Viana', 'Conjunto Habitacional Presidente Eurico Gaspar Dutra', 'Conjunto Habitacional Primavera', 'Distrito Industrial Claudio Guedes Misquiati', 'Distrito Industrial Domingos Biancardi', 'Distrito Industrial Marcus Vinícius Feliz Machado', 'Ferradura Mirim', 'Floratta Nações Residencial', 'Fundação Casas Populares Salvador Filardi', 'Jardim América', 'Jardim Andorfato', 'Jardim Araruna', 'Jardim Bela Vista', 'Jardim Bom Samaritano', 'Jardim Central', 'Jardim Colonial', 'Jardim Contorno', 'Jardim Dona Lili', 'Jardim Estoril', 'Jardim Estoril II', 'Jardim Estoril IV', \"Jardim Estrela D'Alva\", 'Jardim Godoy', 'Jardim Guadalajara', 'Jardim Helena', 'Jardim Marabá', 'Jardim Marambá', 'Jardim Marilu', 'Jardim Marília', 'Jardim Mendonça', 'Jardim Nova Bauru', 'Jardim Nova Esperança', 'Jardim Nova Marília', 'Jardim Olímpico', 'Jardim Ouro Verde', 'Jardim Panorama', 'Jardim Paulista', 'Jardim Petrópolis', 'Jardim Progresso', 'Jardim Prudência', 'Jardim Redentor', 'Jardim Rosa Branca', 'Jardim Samburá', 'Jardim Santana', 'Jardim Shangri-Lá', 'Jardim Solange', 'Jardim TV', 'Jardim Vitória', 'Jardim das Orquídeas', 'Loteamento Chácaras Bauruenses II', 'Loteamento Empresarial Bauru', 'Loteamento Mário Luiz Rodrigues do Prado', 'Novo Jardim Pagani', 'Núcleo Eldorado', 'Núcleo Habitacional Fortunato Rocha Lima', 'Núcleo Habitacional José Regino', 'Núcleo Habitacional Mary Dota', 'Núcleo Habitacional Vereador Edson Francisco da Silva', 'Núcleo Residencial Beija-Flor', 'Núcleo Residencial Edison Bastos Gasparini', 'Núcleo Residencial Presidente Geisel', 'Panorama Parque', 'Parque Alto Sumaré', 'Parque Bauru', 'Parque Baurulândia', 'Parque Boa Vista', 'Parque Continental', 'Parque Hipódromo', 'Parque Industrial Manchester', 'Parque Jaraguá', 'Parque Jardim Europa', 'Parque Júlio Nóbrega', 'Parque Novo São Geraldo', 'Parque Paulista', 'Parque Primavera', 'Parque Residencial Jardim Araruna', 'Parque Residencial Paineiras', 'Parque Roosevelt', 'Parque Rossi', 'Parque Santa Cecília', 'Parque Santa Cândida', 'Parque Santa Rita', 'Parque São Geraldo', 'Parque São João', 'Parque União', 'Parque Val de Palmas', 'Parque Viaduto', 'Parque Vista Alegre', 'Pousada da Esperança I', 'Pousada da Esperança II', 'Quinta da Bela Olinda', 'Residencial Cidade Jardim', 'Residencial Estoril Premium', 'Residencial Jardim Jussara', 'Residencial Jardins do Sul', 'Residencial Lago Sul', 'Residencial Odete', 'Residencial Parque Colina Verde', 'Residencial Village Via Verde', 'Residencial Villaggio', 'Samambaia Parque Residencial', 'Sítios Village Paineiras', 'Tangarás', 'Tibiriçá', 'Vale do Igapó', 'Vila Aeroporto Bauru', 'Vila América', 'Vila Antártica', 'Vila Aviação', 'Vila Aviação B', 'Vila Becheli', 'Vila Bela', 'Vila Bonfim', 'Vila Brunhari', 'Vila Camargo', 'Vila Cardia', 'Vila Carmem', 'Vila Carolina', 'Vila Cidade Universitária', 'Vila Coralina', \"Vila D'Aro\", 'Vila Dutra', 'Vila Falcão', 'Vila Gimenes', 'Vila Guedes de Azevedo', 'Vila Industrial', 'Vila Ipiranga', 'Vila Martha', 'Vila Mesquita', 'Vila Nova Paulista', 'Vila Nova Santa Clara', 'Vila Nova Santa Luzia', 'Vila Pacífico II', 'Vila Paulista', 'Vila Popular', 'Vila Rocha', 'Vila Santa Izabel', 'Vila Santa Rosa', 'Vila Santa Tereza', 'Vila Seabra', 'Vila Silva Pinto', 'Vila Souto', 'Vila São Francisco', 'Vila São João da Boa Vista', 'Vila São João do Ipiranga', 'Vila São Manoel', 'Vila São Paulo', 'Vila Tecnológica Engenheiro José Queda', 'Alphaville Dom Pedro 3', 'Arruamento Fain José Feres', 'Bairro das Palmeiras', 'Barão Geraldo', 'Bonfim', 'Bosque das Palmeiras', 'Cambuí', 'Centro', 'Chácara Santa Letícia', 'Chácara Santa Margarida', 'Chácaras Campos dos Amarais', 'Chácaras São Martinho', 'Cidade Satélite Íris', 'Cidade Universitária', 'Colinas do Ermitage (Sousas)', 'Colônia Fazenda Santa Elisa', 'Conjunto Habitacional Edivaldo Antônio Orsi', 'Conjunto Habitacional Padre Anchieta', 'Conjunto Habitacional Parque Itajaí', 'Conjunto Habitacional Parque da Floresta', 'Conjunto Habitacional Vila Santana (Sousas)', 'Dic I (Conjunto Habitacional Monsenhor Luiz Fernando Abreu)', 'Dic II (Conj Habitacional Doutor Antônio Mendonça de Barros)', 'Dic V (Conjunto Habitacional Chico Mendes)', 'Dic VI (Conjunto Habitacional Santo Dias Silva)', 'Eldorado dos Carajás', 'Fazenda Santana (Sousas)', 'Jardim Adhemar de Barros', 'Jardim Atibaia (Sousas)', 'Jardim Aurélia', 'Jardim Bassoli', 'Jardim Bela Vista', 'Jardim Bom Retiro', 'Jardim Brasil', 'Jardim Campina Grande', 'Jardim Campo Belo', 'Jardim Campos Elíseos', 'Jardim Carlos Gomes', 'Jardim Carlos Lourenço', 'Jardim Chapadão', 'Jardim Conceição (Sousas)', 'Jardim Dom Bosco', 'Jardim Esplanada', 'Jardim Eulina', 'Jardim Fernanda', 'Jardim Florence', 'Jardim García', 'Jardim Guanabara', 'Jardim Guarani', 'Jardim Independência', 'Jardim Ipaussurama', 'Jardim Itaguaçu I', 'Jardim Lisa', 'Jardim Martinelli (Sousas)', 'Jardim Miranda', 'Jardim Monte Líbano', 'Jardim Nossa Senhora Auxiliadora', 'Jardim Nova América', 'Jardim Nova Europa', 'Jardim Novo Campos Elíseos', 'Jardim Novo Flamboyant', 'Jardim Novo Maracanã', 'Jardim Novo Sol', 'Jardim Paraíso de Viracopos', 'Jardim Paulicéia', 'Jardim Planalto de Viracopos', 'Jardim Primavera', 'Jardim Proença I', 'Jardim Quarto Centenário', 'Jardim Roseira', 'Jardim Rossin', 'Jardim Rosália IV', 'Jardim Santa Eudóxia', 'Jardim Santa Genebra', 'Jardim Santa Genebra II (Barão Geraldo)', 'Jardim Santa Lúcia', 'Jardim Santa Mônica', 'Jardim Santana', 'Jardim Santo Antonio', 'Jardim São Cristóvão', 'Jardim São Domingos', 'Jardim São Jorge', 'Jardim São José', 'Jardim São Marcos', 'Jardim São Pedro de Viracopos', 'Jardim Tamoio', 'Jardim Vista Alegre', 'Jardim Yeda', 'Jardim das Bandeiras', 'Jardim das Cerejeiras', 'Loteamento Center Santa Genebra', 'Loteamento Chácaras Gargantilhas', 'Loteamento Claude de Barros Penteado (Sousas)', 'Loteamento Parque das Águas', 'Loteamento Parque dos Alecrins', 'Loteamento Residencial Pedra Alta (Sousas)', 'Loteamento Residencial Vila Bella Dom Pedro', 'Loteamento e Arruamento TELESP', 'Nova Campinas', 'Novo Taquaral', 'Núcleo Residencial Bairro da Vitória', 'Núcleo Residencial Getúlio Vargas', 'Núcleo Residencial Guararapes', 'Núcleo Residencial Paranapanema', 'Núcleo Residencial Parque Família', 'Parque Brasília', 'Parque Imperador', 'Parque Industrial', 'Parque Itália', 'Parque Jambeiro', 'Parque Residencial Caiapó', 'Parque Residencial Vila União', 'Parque Rural Fazenda Santa Cândida', 'Parque São Jorge', 'Parque Taquaral', 'Parque Via Norte', 'Parque da Figueira', 'Parque da Hípica', 'Parque das Constelações', 'Parque das Quaresmeiras', 'Parque das Universidades', 'Parque dos Jacarandás', 'Ponte Preta', 'Real Parque', 'Residencial Cittá Di Firenze', 'Residencial Cittá di Salerno', 'Residencial Jatibela', 'Residencial Moradas do Valle', 'Residencial Nova Bandeirante', 'Residencial Parque da Fazenda', 'Residencial São José', 'Residencial Terras do Barão', 'Residencial Vila Park', 'Rosália', 'Sousas', 'Swiss Park', 'São Bernardo', 'Taquaral', 'Terminal Intermodal de Cargas (TIC)', 'Vila Campos Sales', 'Vila Castelo Branco', 'Vila Eliza', 'Vila Estanislau', 'Vila Formosa', 'Vila Industrial', 'Vila Joaquim Inácio', 'Vila João Jorge', 'Vila Lemos', 'Vila Nogueira', 'Vila Nova', 'Vila Orozimbo Maia', 'Vila Padre Manoel de Nóbrega', 'Vila Palmeiras I', 'Vila Palmeiras II', 'Vila Proost de Souza', 'Vila Satúrnia', 'Vila Trinta e Um de Março', 'Village Campinas', 'Ville Sainte Hélène']"
      ],
      "metadata": {
        "id": "-p1KFjWpxPS5"
      },
      "execution_count": 103,
      "outputs": []
    },
    {
      "cell_type": "code",
      "source": [
        "def slot_value_itens_pedido():\n",
        "    global pizzas_disponiveis\n",
        "\n",
        "    total = 1+int(random.random()*3)\n",
        "\n",
        "    pedido = []\n",
        "    for _ in range(total):\n",
        "\n",
        "        if random.random()<0.7:\n",
        "            p1 = random.choice(pizzas_disponiveis)\n",
        "\n",
        "            p1 = f\"{int(1+random.random()*2)} {p1}\"\n",
        "\n",
        "\n",
        "            pedido.append(p1)\n",
        "\n",
        "        else:\n",
        "            p1 = random.choice(pizzas_disponiveis)\n",
        "            p2 = random.choice(pizzas_disponiveis)\n",
        "            while p2==p1:\n",
        "                p2 = random.choice(pizzas_disponiveis)\n",
        "            \n",
        "            pedido.append(f\"Meia {p1} e meia {p2}\")\n",
        "\n",
        "    pedido = \" ; \".join(pedido)\n",
        "    return pedido\n",
        "\n",
        "\n",
        "def slot_value_valor_total_pedido():\n",
        "    v1 = 50+int(random.random()*90)\n",
        "    v2 = int(random.random()*99)\n",
        "    if v2<10:\n",
        "        v2 = f\"0{v2}\"\n",
        "    return f\"R$ {v1},{v2}\"\n",
        "\n",
        "def slot_value_endereco(): # resumo de https://github.com/joke2k/faker/blob/master/faker/providers/address/pt_BR/__init__.py\n",
        "    v = random.choice(list_bairros)\n",
        "\n",
        "    v += f\" Número {int(random.random()*1000)}\"\n",
        "\n",
        "    if random.random()<0.10:\n",
        "        v += f\" Apartamento {int(random.random()*1000)}\"\n",
        "\n",
        "    return v\n",
        "\n",
        "def slot_troco():\n",
        "    if random.random()<0.4:\n",
        "        return \"Não precisa de troco\"\n",
        "    \n",
        "    v = None\n",
        "    if random.random()<0.5:\n",
        "        v = \"150,00\"\n",
        "    else:\n",
        "        v = \"200,00\"\n",
        "    return f\"Troco para R$ {v}\"\n",
        "\n",
        "\n",
        "def slot_tempo_preparo():\n",
        "    ts = [\"30 minutos\", \"60 minutos\", \"1 hora\", \"2 horas\"]\n",
        "\n",
        "    return random.choice(ts)\n",
        "\n",
        "def slot_chave_pix():\n",
        "    tipo = random.choice([\"cpf\", \"cnpj\", \"telefone\", \"aleatória\"])\n",
        "\n",
        "    chave = \"\"\n",
        "    if tipo==\"cpf\": # xxx.xxx.xxx-xx\n",
        "\n",
        "        while len(chave)<13:\n",
        "            chave += str(int(random.random()*10))\n",
        "        \n",
        "            if len(chave)==3 or len(chave)==6:\n",
        "                chave += \".\"\n",
        "            \n",
        "            if len(chave)==9:\n",
        "                chave+= \"-\"\n",
        "        chave = \"CPF \"+chave\n",
        "    \n",
        "    if tipo==\"cnpj\": # xx.xxx.xxx/xxxx-xx\n",
        "        while len(chave)<18:\n",
        "            chave += str(int(random.random()*10))\n",
        "            if len(chave)==2 or len(chave)==6:\n",
        "                chave += \".\"\n",
        "            if len(chave)==15:\n",
        "                chave+= \"-\"\n",
        "            if len(chave)==10:\n",
        "                chave+= \"/\"\n",
        "        chave = \"CNPJ \"+chave\n",
        "\n",
        "    if tipo==\"telefone\": # xxxx-xxxx\n",
        "        while len(chave)<9:\n",
        "            chave += str(int(random.random()*10))\n",
        "            if len(chave)==4:\n",
        "                chave+= \"-\"\n",
        "        chave = \"Telefone \"+chave\n",
        "    \n",
        "    if tipo==\"aleatória\": # dbbf965d-677c-49ff-b9da-5131da1505f3\n",
        "        lst = [random.choice(list((string.ascii_letters[0:6] + string.digits))) for n in range(36)]\n",
        "        chave = \"\".join(lst)\n",
        "        chave = f\"Aleatória {chave[0:8]}-{chave[9:13]}-{chave[14:18]}-{chave[19:23]}-{chave[24:]}\"\n",
        "\n",
        "    return chave \n",
        "\n",
        "def slot_sabores_disponiveis():\n",
        "    global pizzas_disponiveis\n",
        "    p = pizzas_disponiveis\n",
        "    p = '\\n'.join(p)\n",
        "    return p\n"
      ],
      "metadata": {
        "id": "_TyX-ri-iBGG"
      },
      "execution_count": 104,
      "outputs": []
    },
    {
      "cell_type": "code",
      "source": [
        "value_slot = {\n",
        "    \"[valor_total_pedido]\": slot_value_valor_total_pedido,\n",
        "    \"[itens_pedido]\": slot_value_itens_pedido,\n",
        "    \"[endereco]\": slot_value_endereco,\n",
        "    \"[sabores_disponiveis]\": slot_sabores_disponiveis,\n",
        "    \"[chave_pix]\": slot_chave_pix,\n",
        "    \"[troco]\": slot_troco,\n",
        "    \"[tempo_preparo]\": slot_tempo_preparo,\n",
        "}\n",
        "\n",
        "def create(atual=\"A\", end=\"X\"):\n",
        "    steps = []\n",
        "    while atual!=end:\n",
        "        steps.append(atual)\n",
        "        next = stories_generator.stories[atual]\n",
        "        atual = np.random.choice(list(next.keys()), p=list(next.values()))\n",
        "    \n",
        "    steps.append(end)\n",
        "    return steps\n",
        "\n",
        "\n",
        "def states_to_dialogue(states):\n",
        "    talk = []\n",
        "    cliente_talk = []\n",
        "    sistema_talk = []\n",
        "\n",
        "    for estado in states:\n",
        "        t = stories_generator.examples[estado]\n",
        "\n",
        "        for key in value_slot.keys():\n",
        "            if key in t:\n",
        "                val = value_slot[key]()\n",
        "                t = t.replace(key, val)\n",
        "                \n",
        "        talk.append(t)\n",
        "        if t[0:9]==\"[Cliente]\":\n",
        "            cliente_talk.append(t)\n",
        "        elif t[0:9]==\"[Sistema]\":\n",
        "            sistema_talk.append(t)\n",
        "    \n",
        "    return talk, cliente_talk, sistema_talk\n",
        "\n",
        "\n",
        "steps_lens = []\n",
        "steps = []\n",
        "for i in range(2000):\n",
        "    flow = create(atual=\"A\", end=\"X\")\n",
        "    steps_lens.append(len(flow))\n",
        "    steps.append(flow)"
      ],
      "metadata": {
        "id": "a2cs06BeP-SL"
      },
      "execution_count": 105,
      "outputs": []
    },
    {
      "cell_type": "code",
      "source": [
        "print(\"Total\", len(steps), \"Min\", min(steps_lens), \"Max\", max(steps_lens), \"Média\", sum(steps_lens)/len(steps_lens), \"<20\", len([f for f in steps_lens if f<20]), \">40\", len([f for f in steps_lens if f>40]))"
      ],
      "metadata": {
        "colab": {
          "base_uri": "https://localhost:8080/"
        },
        "id": "qbYrKP7QWZYP",
        "outputId": "b84c4b11-40a4-43e4-8a54-3feab990fd12"
      },
      "execution_count": 109,
      "outputs": [
        {
          "output_type": "stream",
          "name": "stdout",
          "text": [
            "Total 2000 Min 12 Max 97 Média 19.5285 <20 1246 >40 62\n"
          ]
        }
      ]
    },
    {
      "cell_type": "code",
      "source": [
        "with open(\"flows.txt\", \"w\") as f:\n",
        "    for st in steps:\n",
        "\n",
        "        f.write(json.dumps(st))\n",
        "\n",
        "        talk, cliente_talk, sistema_talk = states_to_dialogue(steps[1])\n",
        "\n",
        "        f.write(\"\\t\")\n",
        "        f.write(json.dumps(talk))\n",
        "        f.write(\"\\t\")\n",
        "        f.write(json.dumps(cliente_talk))\n",
        "        f.write(\"\\t\")\n",
        "        f.write(json.dumps(sistema_talk))\n",
        "\n",
        "        f.write(\"\\n\")"
      ],
      "metadata": {
        "id": "T1m3VkG4_D2I"
      },
      "execution_count": 117,
      "outputs": []
    },
    {
      "cell_type": "code",
      "source": [
        "! head flows.txt"
      ],
      "metadata": {
        "colab": {
          "base_uri": "https://localhost:8080/"
        },
        "id": "T9IwD0TMzVyF",
        "outputId": "675da29d-4b58-4f7d-8e20-e959f99c5537"
      },
      "execution_count": 116,
      "outputs": [
        {
          "output_type": "stream",
          "name": "stdout",
          "text": [
            "[\"A\", \"B\", \"C\", \"D\", \"E\", \"H\", \"i\", \"N\", \"O\", \"P\", \"Q\", \"R\", \"T\", \"X\"]\t[\"Start\", \"[Cliente] Inicie a conversa cumprimentando \", \"[Sistema] Pergunte como pode ajudar o cliente\", \"[Cliente] Fale que quer fazer pedido antes de informar os detalhes do pedido\", \"[Sistema] Pergunte quais os itens do pedido\", \"[Cliente] Detalhe os itens: 1 Palmito e champignon ; 2 Siciliana ; 2 Atum com palmito\", \"[Sistema] Confirme os itens em uma lista enumerada\", \"[Cliente] Confirme que os itens do pedido est\\u00e3o corretos\", \"[Sistema] Informe o total: R$ 112,30\", \"[Sistema] Pergunte o endere\\u00e7o\", \"[Cliente] Informe o endere\\u00e7o: Parque Novo Mundo N\\u00famero 219\", \"[Sistema] Pergunte a forma de pagamento\", \"[Cliente] Pergunte se pode adicionar mais um item\", \"[Sistema] Informe que pode adicionar/alterar o que o cliente desejar\", \"[Cliente] Informe altera\\u00e7\\u00e3o no pedido\", \"[Cliente] Detalhe os itens: Meia Calif\\u00f3rnia e meia Carne seca com cream cheese ; 2 Berinjela e abobrinha ; 1 Frango com cheddar\", \"[Sistema] Confirme os itens em uma lista enumerada\", \"[Cliente] Confirme que os itens do pedido est\\u00e3o corretos\", \"[Sistema] Informe o total: R$ 52,43\", \"[Sistema] Pergunte o endere\\u00e7o\", \"\", \"[Cliente] Informe altera\\u00e7\\u00e3o no pedido\", \"[Cliente] Detalhe os itens: Meia Frango com palmito e meia Frango com cheddar ; 1 Frango com cheddar ; Meia Frango \\u00e0 parmegiana e meia Marguerita\", \"[Sistema] Confirme os itens em uma lista enumerada\", \"\", \"[Cliente] Pergunte se pode adicionar mais um item\", \"[Sistema] Informe que pode adicionar/alterar o que o cliente desejar\", \"[Cliente] Informe altera\\u00e7\\u00e3o no pedido\", \"[Cliente] Detalhe os itens: 1 Camar\\u00e3o ; 1 Siciliana\", \"[Sistema] Confirme os itens em uma lista enumerada\", \"[Cliente] Confirme que os itens do pedido est\\u00e3o corretos\", \"[Sistema] Informe o total: R$ 50,74\", \"[Sistema] Pergunte o endere\\u00e7o\", \"[Cliente] Informe o endere\\u00e7o: N\\u00facleo Habitacional Vereador Edson Francisco da Silva N\\u00famero 263 Apartamento 25\", \"[Sistema] Pergunte a forma de pagamento\", \"[Cliente] Pe\\u00e7a para pagar com PIX\", \"[Sistema] Passe a chave CNPJ 55.437.138/1422-98 para PIX\", \"[Cliente] Avise que o pix foi feito\", \"[Sistema] Confirme o pedido. Informe que est\\u00e1 sendo preparado e que vai demorar 1 hora minutos\"]\t[\"[Cliente] Inicie a conversa cumprimentando \", \"[Cliente] Fale que quer fazer pedido antes de informar os detalhes do pedido\", \"[Cliente] Detalhe os itens: 1 Palmito e champignon ; 2 Siciliana ; 2 Atum com palmito\", \"[Cliente] Confirme que os itens do pedido est\\u00e3o corretos\", \"[Cliente] Informe o endere\\u00e7o: Parque Novo Mundo N\\u00famero 219\", \"[Cliente] Pergunte se pode adicionar mais um item\", \"[Cliente] Informe altera\\u00e7\\u00e3o no pedido\", \"[Cliente] Detalhe os itens: Meia Calif\\u00f3rnia e meia Carne seca com cream cheese ; 2 Berinjela e abobrinha ; 1 Frango com cheddar\", \"[Cliente] Confirme que os itens do pedido est\\u00e3o corretos\", \"[Cliente] Informe altera\\u00e7\\u00e3o no pedido\", \"[Cliente] Detalhe os itens: Meia Frango com palmito e meia Frango com cheddar ; 1 Frango com cheddar ; Meia Frango \\u00e0 parmegiana e meia Marguerita\", \"[Cliente] Pergunte se pode adicionar mais um item\", \"[Cliente] Informe altera\\u00e7\\u00e3o no pedido\", \"[Cliente] Detalhe os itens: 1 Camar\\u00e3o ; 1 Siciliana\", \"[Cliente] Confirme que os itens do pedido est\\u00e3o corretos\", \"[Cliente] Informe o endere\\u00e7o: N\\u00facleo Habitacional Vereador Edson Francisco da Silva N\\u00famero 263 Apartamento 25\", \"[Cliente] Pe\\u00e7a para pagar com PIX\", \"[Cliente] Avise que o pix foi feito\"]\t[\"[Sistema] Pergunte como pode ajudar o cliente\", \"[Sistema] Pergunte quais os itens do pedido\", \"[Sistema] Confirme os itens em uma lista enumerada\", \"[Sistema] Informe o total: R$ 112,30\", \"[Sistema] Pergunte o endere\\u00e7o\", \"[Sistema] Pergunte a forma de pagamento\", \"[Sistema] Informe que pode adicionar/alterar o que o cliente desejar\", \"[Sistema] Confirme os itens em uma lista enumerada\", \"[Sistema] Informe o total: R$ 52,43\", \"[Sistema] Pergunte o endere\\u00e7o\", \"[Sistema] Confirme os itens em uma lista enumerada\", \"[Sistema] Informe que pode adicionar/alterar o que o cliente desejar\", \"[Sistema] Confirme os itens em uma lista enumerada\", \"[Sistema] Informe o total: R$ 50,74\", \"[Sistema] Pergunte o endere\\u00e7o\", \"[Sistema] Pergunte a forma de pagamento\", \"[Sistema] Passe a chave CNPJ 55.437.138/1422-98 para PIX\", \"[Sistema] Confirme o pedido. Informe que est\\u00e1 sendo preparado e que vai demorar 1 hora minutos\"]\n",
            "[\"A\", \"B\", \"C\", \"D\", \"E\", \"H\", \"i\", \"N\", \"O\", \"P\", \"Q\", \"R\", \"K\", \"L\", \"M\", \"H\", \"i\", \"N\", \"O\", \"P\", \"J\", \"M\", \"H\", \"i\", \"J\", \"K\", \"L\", \"M\", \"H\", \"i\", \"N\", \"O\", \"P\", \"Q\", \"R\", \"S\", \"AA\", \"AB\", \"X\"]\t[\"Start\", \"[Cliente] Inicie a conversa cumprimentando \", \"[Sistema] Pergunte como pode ajudar o cliente\", \"[Cliente] Fale que quer fazer pedido antes de informar os detalhes do pedido\", \"[Sistema] Pergunte quais os itens do pedido\", \"[Cliente] Detalhe os itens: Meia Siciliana e meia Atum com palmito ; 1 Al Capone\", \"[Sistema] Confirme os itens em uma lista enumerada\", \"[Cliente] Confirme que os itens do pedido est\\u00e3o corretos\", \"[Sistema] Informe o total: R$ 61,92\", \"[Sistema] Pergunte o endere\\u00e7o\", \"[Cliente] Informe o endere\\u00e7o: Loteamento Center Santa Genebra N\\u00famero 446 Apartamento 502\", \"[Sistema] Pergunte a forma de pagamento\", \"[Cliente] Pergunte se pode adicionar mais um item\", \"[Sistema] Informe que pode adicionar/alterar o que o cliente desejar\", \"[Cliente] Informe altera\\u00e7\\u00e3o no pedido\", \"[Cliente] Detalhe os itens: 2 R\\u00facula ; 1 Frango com catupiry\", \"[Sistema] Confirme os itens em uma lista enumerada\", \"[Cliente] Confirme que os itens do pedido est\\u00e3o corretos\", \"[Sistema] Informe o total: R$ 133,90\", \"[Sistema] Pergunte o endere\\u00e7o\", \"\", \"[Cliente] Informe altera\\u00e7\\u00e3o no pedido\", \"[Cliente] Detalhe os itens: Meia Peito de peru e champignon e meia Calif\\u00f3rnia ; 1 Quatro queijos ; Meia Br\\u00f3colis e peito de peru e meia Piment\\u00e3o e Azeitona\", \"[Sistema] Confirme os itens em uma lista enumerada\", \"\", \"[Cliente] Pergunte se pode adicionar mais um item\", \"[Sistema] Informe que pode adicionar/alterar o que o cliente desejar\", \"[Cliente] Informe altera\\u00e7\\u00e3o no pedido\", \"[Cliente] Detalhe os itens: 1 Jardineira ; 2 Frango com catupiry ; Meia Alho e \\u00f3leo e meia Berinjela e abobrinha\", \"[Sistema] Confirme os itens em uma lista enumerada\", \"[Cliente] Confirme que os itens do pedido est\\u00e3o corretos\", \"[Sistema] Informe o total: R$ 107,23\", \"[Sistema] Pergunte o endere\\u00e7o\", \"[Cliente] Informe o endere\\u00e7o: Jardim Almeida N\\u00famero 259\", \"[Sistema] Pergunte a forma de pagamento\", \"[Cliente] Pe\\u00e7a para pagar com PIX\", \"[Sistema] Passe a chave CPF 968.12.83-642 para PIX\", \"[Cliente] Avise que o pix foi feito\", \"[Sistema] Confirme o pedido. Informe que est\\u00e1 sendo preparado e que vai demorar 1 hora minutos\"]\t[\"[Cliente] Inicie a conversa cumprimentando \", \"[Cliente] Fale que quer fazer pedido antes de informar os detalhes do pedido\", \"[Cliente] Detalhe os itens: Meia Siciliana e meia Atum com palmito ; 1 Al Capone\", \"[Cliente] Confirme que os itens do pedido est\\u00e3o corretos\", \"[Cliente] Informe o endere\\u00e7o: Loteamento Center Santa Genebra N\\u00famero 446 Apartamento 502\", \"[Cliente] Pergunte se pode adicionar mais um item\", \"[Cliente] Informe altera\\u00e7\\u00e3o no pedido\", \"[Cliente] Detalhe os itens: 2 R\\u00facula ; 1 Frango com catupiry\", \"[Cliente] Confirme que os itens do pedido est\\u00e3o corretos\", \"[Cliente] Informe altera\\u00e7\\u00e3o no pedido\", \"[Cliente] Detalhe os itens: Meia Peito de peru e champignon e meia Calif\\u00f3rnia ; 1 Quatro queijos ; Meia Br\\u00f3colis e peito de peru e meia Piment\\u00e3o e Azeitona\", \"[Cliente] Pergunte se pode adicionar mais um item\", \"[Cliente] Informe altera\\u00e7\\u00e3o no pedido\", \"[Cliente] Detalhe os itens: 1 Jardineira ; 2 Frango com catupiry ; Meia Alho e \\u00f3leo e meia Berinjela e abobrinha\", \"[Cliente] Confirme que os itens do pedido est\\u00e3o corretos\", \"[Cliente] Informe o endere\\u00e7o: Jardim Almeida N\\u00famero 259\", \"[Cliente] Pe\\u00e7a para pagar com PIX\", \"[Cliente] Avise que o pix foi feito\"]\t[\"[Sistema] Pergunte como pode ajudar o cliente\", \"[Sistema] Pergunte quais os itens do pedido\", \"[Sistema] Confirme os itens em uma lista enumerada\", \"[Sistema] Informe o total: R$ 61,92\", \"[Sistema] Pergunte o endere\\u00e7o\", \"[Sistema] Pergunte a forma de pagamento\", \"[Sistema] Informe que pode adicionar/alterar o que o cliente desejar\", \"[Sistema] Confirme os itens em uma lista enumerada\", \"[Sistema] Informe o total: R$ 133,90\", \"[Sistema] Pergunte o endere\\u00e7o\", \"[Sistema] Confirme os itens em uma lista enumerada\", \"[Sistema] Informe que pode adicionar/alterar o que o cliente desejar\", \"[Sistema] Confirme os itens em uma lista enumerada\", \"[Sistema] Informe o total: R$ 107,23\", \"[Sistema] Pergunte o endere\\u00e7o\", \"[Sistema] Pergunte a forma de pagamento\", \"[Sistema] Passe a chave CPF 968.12.83-642 para PIX\", \"[Sistema] Confirme o pedido. Informe que est\\u00e1 sendo preparado e que vai demorar 1 hora minutos\"]\n",
            "[\"A\", \"D\", \"E\", \"H\", \"i\", \"N\", \"O\", \"P\", \"Q\", \"R\", \"S\", \"AA\", \"AB\", \"X\"]\t[\"Start\", \"[Cliente] Inicie a conversa cumprimentando \", \"[Sistema] Pergunte como pode ajudar o cliente\", \"[Cliente] Fale que quer fazer pedido antes de informar os detalhes do pedido\", \"[Sistema] Pergunte quais os itens do pedido\", \"[Cliente] Detalhe os itens: 1 Frango com catupiry\", \"[Sistema] Confirme os itens em uma lista enumerada\", \"[Cliente] Confirme que os itens do pedido est\\u00e3o corretos\", \"[Sistema] Informe o total: R$ 73,36\", \"[Sistema] Pergunte o endere\\u00e7o\", \"[Cliente] Informe o endere\\u00e7o: Bosque das Palmeiras N\\u00famero 655\", \"[Sistema] Pergunte a forma de pagamento\", \"[Cliente] Pergunte se pode adicionar mais um item\", \"[Sistema] Informe que pode adicionar/alterar o que o cliente desejar\", \"[Cliente] Informe altera\\u00e7\\u00e3o no pedido\", \"[Cliente] Detalhe os itens: 2 Calif\\u00f3rnia ; 1 Abobrinha com aveia ; 1 Berinjela e abobrinha\", \"[Sistema] Confirme os itens em uma lista enumerada\", \"[Cliente] Confirme que os itens do pedido est\\u00e3o corretos\", \"[Sistema] Informe o total: R$ 88,21\", \"[Sistema] Pergunte o endere\\u00e7o\", \"\", \"[Cliente] Informe altera\\u00e7\\u00e3o no pedido\", \"[Cliente] Detalhe os itens: 1 Caipira\", \"[Sistema] Confirme os itens em uma lista enumerada\", \"\", \"[Cliente] Pergunte se pode adicionar mais um item\", \"[Sistema] Informe que pode adicionar/alterar o que o cliente desejar\", \"[Cliente] Informe altera\\u00e7\\u00e3o no pedido\", \"[Cliente] Detalhe os itens: 1 Atum com cream cheese e alho-por\\u00f3 ; 2 Atum com palmito\", \"[Sistema] Confirme os itens em uma lista enumerada\", \"[Cliente] Confirme que os itens do pedido est\\u00e3o corretos\", \"[Sistema] Informe o total: R$ 79,53\", \"[Sistema] Pergunte o endere\\u00e7o\", \"[Cliente] Informe o endere\\u00e7o: Vila Gustavo N\\u00famero 406\", \"[Sistema] Pergunte a forma de pagamento\", \"[Cliente] Pe\\u00e7a para pagar com PIX\", \"[Sistema] Passe a chave CNPJ 20.343.967/7326-38 para PIX\", \"[Cliente] Avise que o pix foi feito\", \"[Sistema] Confirme o pedido. Informe que est\\u00e1 sendo preparado e que vai demorar 30 minutos minutos\"]\t[\"[Cliente] Inicie a conversa cumprimentando \", \"[Cliente] Fale que quer fazer pedido antes de informar os detalhes do pedido\", \"[Cliente] Detalhe os itens: 1 Frango com catupiry\", \"[Cliente] Confirme que os itens do pedido est\\u00e3o corretos\", \"[Cliente] Informe o endere\\u00e7o: Bosque das Palmeiras N\\u00famero 655\", \"[Cliente] Pergunte se pode adicionar mais um item\", \"[Cliente] Informe altera\\u00e7\\u00e3o no pedido\", \"[Cliente] Detalhe os itens: 2 Calif\\u00f3rnia ; 1 Abobrinha com aveia ; 1 Berinjela e abobrinha\", \"[Cliente] Confirme que os itens do pedido est\\u00e3o corretos\", \"[Cliente] Informe altera\\u00e7\\u00e3o no pedido\", \"[Cliente] Detalhe os itens: 1 Caipira\", \"[Cliente] Pergunte se pode adicionar mais um item\", \"[Cliente] Informe altera\\u00e7\\u00e3o no pedido\", \"[Cliente] Detalhe os itens: 1 Atum com cream cheese e alho-por\\u00f3 ; 2 Atum com palmito\", \"[Cliente] Confirme que os itens do pedido est\\u00e3o corretos\", \"[Cliente] Informe o endere\\u00e7o: Vila Gustavo N\\u00famero 406\", \"[Cliente] Pe\\u00e7a para pagar com PIX\", \"[Cliente] Avise que o pix foi feito\"]\t[\"[Sistema] Pergunte como pode ajudar o cliente\", \"[Sistema] Pergunte quais os itens do pedido\", \"[Sistema] Confirme os itens em uma lista enumerada\", \"[Sistema] Informe o total: R$ 73,36\", \"[Sistema] Pergunte o endere\\u00e7o\", \"[Sistema] Pergunte a forma de pagamento\", \"[Sistema] Informe que pode adicionar/alterar o que o cliente desejar\", \"[Sistema] Confirme os itens em uma lista enumerada\", \"[Sistema] Informe o total: R$ 88,21\", \"[Sistema] Pergunte o endere\\u00e7o\", \"[Sistema] Confirme os itens em uma lista enumerada\", \"[Sistema] Informe que pode adicionar/alterar o que o cliente desejar\", \"[Sistema] Confirme os itens em uma lista enumerada\", \"[Sistema] Informe o total: R$ 79,53\", \"[Sistema] Pergunte o endere\\u00e7o\", \"[Sistema] Pergunte a forma de pagamento\", \"[Sistema] Passe a chave CNPJ 20.343.967/7326-38 para PIX\", \"[Sistema] Confirme o pedido. Informe que est\\u00e1 sendo preparado e que vai demorar 30 minutos minutos\"]\n",
            "[\"A\", \"D\", \"E\", \"H\", \"i\", \"N\", \"O\", \"P\", \"Q\", \"R\", \"K\", \"L\", \"M\", \"H\", \"i\", \"N\", \"O\", \"P\", \"J\", \"K\", \"L\", \"M\", \"H\", \"i\", \"N\", \"O\", \"P\", \"Q\", \"R\", \"T\", \"X\"]\t[\"Start\", \"[Cliente] Inicie a conversa cumprimentando \", \"[Sistema] Pergunte como pode ajudar o cliente\", \"[Cliente] Fale que quer fazer pedido antes de informar os detalhes do pedido\", \"[Sistema] Pergunte quais os itens do pedido\", \"[Cliente] Detalhe os itens: 1 Frango com catupiry\", \"[Sistema] Confirme os itens em uma lista enumerada\", \"[Cliente] Confirme que os itens do pedido est\\u00e3o corretos\", \"[Sistema] Informe o total: R$ 72,45\", \"[Sistema] Pergunte o endere\\u00e7o\", \"[Cliente] Informe o endere\\u00e7o: Eldorado N\\u00famero 646\", \"[Sistema] Pergunte a forma de pagamento\", \"[Cliente] Pergunte se pode adicionar mais um item\", \"[Sistema] Informe que pode adicionar/alterar o que o cliente desejar\", \"[Cliente] Informe altera\\u00e7\\u00e3o no pedido\", \"[Cliente] Detalhe os itens: 2 Alcachofra ; 1 Canadense\", \"[Sistema] Confirme os itens em uma lista enumerada\", \"[Cliente] Confirme que os itens do pedido est\\u00e3o corretos\", \"[Sistema] Informe o total: R$ 108,75\", \"[Sistema] Pergunte o endere\\u00e7o\", \"\", \"[Cliente] Informe altera\\u00e7\\u00e3o no pedido\", \"[Cliente] Detalhe os itens: Meia Frango \\u00e0 parmegiana e meia Champignon e manjeric\\u00e3o ; Meia Marguerita e meia Champignon e manjeric\\u00e3o ; 1 R\\u00facula\", \"[Sistema] Confirme os itens em uma lista enumerada\", \"\", \"[Cliente] Pergunte se pode adicionar mais um item\", \"[Sistema] Informe que pode adicionar/alterar o que o cliente desejar\", \"[Cliente] Informe altera\\u00e7\\u00e3o no pedido\", \"[Cliente] Detalhe os itens: 1 Quatro queijos ; 1 Pepperoni\", \"[Sistema] Confirme os itens em uma lista enumerada\", \"[Cliente] Confirme que os itens do pedido est\\u00e3o corretos\", \"[Sistema] Informe o total: R$ 59,28\", \"[Sistema] Pergunte o endere\\u00e7o\", \"[Cliente] Informe o endere\\u00e7o: Parque Industrial Manchester N\\u00famero 2 Apartamento 496\", \"[Sistema] Pergunte a forma de pagamento\", \"[Cliente] Pe\\u00e7a para pagar com PIX\", \"[Sistema] Passe a chave Telefone 9405-6156 para PIX\", \"[Cliente] Avise que o pix foi feito\", \"[Sistema] Confirme o pedido. Informe que est\\u00e1 sendo preparado e que vai demorar 1 hora minutos\"]\t[\"[Cliente] Inicie a conversa cumprimentando \", \"[Cliente] Fale que quer fazer pedido antes de informar os detalhes do pedido\", \"[Cliente] Detalhe os itens: 1 Frango com catupiry\", \"[Cliente] Confirme que os itens do pedido est\\u00e3o corretos\", \"[Cliente] Informe o endere\\u00e7o: Eldorado N\\u00famero 646\", \"[Cliente] Pergunte se pode adicionar mais um item\", \"[Cliente] Informe altera\\u00e7\\u00e3o no pedido\", \"[Cliente] Detalhe os itens: 2 Alcachofra ; 1 Canadense\", \"[Cliente] Confirme que os itens do pedido est\\u00e3o corretos\", \"[Cliente] Informe altera\\u00e7\\u00e3o no pedido\", \"[Cliente] Detalhe os itens: Meia Frango \\u00e0 parmegiana e meia Champignon e manjeric\\u00e3o ; Meia Marguerita e meia Champignon e manjeric\\u00e3o ; 1 R\\u00facula\", \"[Cliente] Pergunte se pode adicionar mais um item\", \"[Cliente] Informe altera\\u00e7\\u00e3o no pedido\", \"[Cliente] Detalhe os itens: 1 Quatro queijos ; 1 Pepperoni\", \"[Cliente] Confirme que os itens do pedido est\\u00e3o corretos\", \"[Cliente] Informe o endere\\u00e7o: Parque Industrial Manchester N\\u00famero 2 Apartamento 496\", \"[Cliente] Pe\\u00e7a para pagar com PIX\", \"[Cliente] Avise que o pix foi feito\"]\t[\"[Sistema] Pergunte como pode ajudar o cliente\", \"[Sistema] Pergunte quais os itens do pedido\", \"[Sistema] Confirme os itens em uma lista enumerada\", \"[Sistema] Informe o total: R$ 72,45\", \"[Sistema] Pergunte o endere\\u00e7o\", \"[Sistema] Pergunte a forma de pagamento\", \"[Sistema] Informe que pode adicionar/alterar o que o cliente desejar\", \"[Sistema] Confirme os itens em uma lista enumerada\", \"[Sistema] Informe o total: R$ 108,75\", \"[Sistema] Pergunte o endere\\u00e7o\", \"[Sistema] Confirme os itens em uma lista enumerada\", \"[Sistema] Informe que pode adicionar/alterar o que o cliente desejar\", \"[Sistema] Confirme os itens em uma lista enumerada\", \"[Sistema] Informe o total: R$ 59,28\", \"[Sistema] Pergunte o endere\\u00e7o\", \"[Sistema] Pergunte a forma de pagamento\", \"[Sistema] Passe a chave Telefone 9405-6156 para PIX\", \"[Sistema] Confirme o pedido. Informe que est\\u00e1 sendo preparado e que vai demorar 1 hora minutos\"]\n",
            "[\"A\", \"B\", \"C\", \"D\", \"E\", \"H\", \"i\", \"N\", \"O\", \"P\", \"Q\", \"R\", \"T\", \"X\"]\t[\"Start\", \"[Cliente] Inicie a conversa cumprimentando \", \"[Sistema] Pergunte como pode ajudar o cliente\", \"[Cliente] Fale que quer fazer pedido antes de informar os detalhes do pedido\", \"[Sistema] Pergunte quais os itens do pedido\", \"[Cliente] Detalhe os itens: 2 Escarola ; Meia Tribeca e meia Marguerita\", \"[Sistema] Confirme os itens em uma lista enumerada\", \"[Cliente] Confirme que os itens do pedido est\\u00e3o corretos\", \"[Sistema] Informe o total: R$ 69,98\", \"[Sistema] Pergunte o endere\\u00e7o\", \"[Cliente] Informe o endere\\u00e7o: Jardim Itagua\\u00e7u I N\\u00famero 825\", \"[Sistema] Pergunte a forma de pagamento\", \"[Cliente] Pergunte se pode adicionar mais um item\", \"[Sistema] Informe que pode adicionar/alterar o que o cliente desejar\", \"[Cliente] Informe altera\\u00e7\\u00e3o no pedido\", \"[Cliente] Detalhe os itens: 1 Carne seca com cream cheese ; 1 Atum com cream cheese e alho-por\\u00f3\", \"[Sistema] Confirme os itens em uma lista enumerada\", \"[Cliente] Confirme que os itens do pedido est\\u00e3o corretos\", \"[Sistema] Informe o total: R$ 68,47\", \"[Sistema] Pergunte o endere\\u00e7o\", \"\", \"[Cliente] Informe altera\\u00e7\\u00e3o no pedido\", \"[Cliente] Detalhe os itens: 2 Atum com palmito ; 1 Peito de peru com cream cheese\", \"[Sistema] Confirme os itens em uma lista enumerada\", \"\", \"[Cliente] Pergunte se pode adicionar mais um item\", \"[Sistema] Informe que pode adicionar/alterar o que o cliente desejar\", \"[Cliente] Informe altera\\u00e7\\u00e3o no pedido\", \"[Cliente] Detalhe os itens: 2 Atum ; 2 Alho Negro ; 2 Peito de peru e champignon\", \"[Sistema] Confirme os itens em uma lista enumerada\", \"[Cliente] Confirme que os itens do pedido est\\u00e3o corretos\", \"[Sistema] Informe o total: R$ 132,03\", \"[Sistema] Pergunte o endere\\u00e7o\", \"[Cliente] Informe o endere\\u00e7o: Vila Constan\\u00e7a N\\u00famero 949\", \"[Sistema] Pergunte a forma de pagamento\", \"[Cliente] Pe\\u00e7a para pagar com PIX\", \"[Sistema] Passe a chave CNPJ 43.091.266/4511-03 para PIX\", \"[Cliente] Avise que o pix foi feito\", \"[Sistema] Confirme o pedido. Informe que est\\u00e1 sendo preparado e que vai demorar 60 minutos minutos\"]\t[\"[Cliente] Inicie a conversa cumprimentando \", \"[Cliente] Fale que quer fazer pedido antes de informar os detalhes do pedido\", \"[Cliente] Detalhe os itens: 2 Escarola ; Meia Tribeca e meia Marguerita\", \"[Cliente] Confirme que os itens do pedido est\\u00e3o corretos\", \"[Cliente] Informe o endere\\u00e7o: Jardim Itagua\\u00e7u I N\\u00famero 825\", \"[Cliente] Pergunte se pode adicionar mais um item\", \"[Cliente] Informe altera\\u00e7\\u00e3o no pedido\", \"[Cliente] Detalhe os itens: 1 Carne seca com cream cheese ; 1 Atum com cream cheese e alho-por\\u00f3\", \"[Cliente] Confirme que os itens do pedido est\\u00e3o corretos\", \"[Cliente] Informe altera\\u00e7\\u00e3o no pedido\", \"[Cliente] Detalhe os itens: 2 Atum com palmito ; 1 Peito de peru com cream cheese\", \"[Cliente] Pergunte se pode adicionar mais um item\", \"[Cliente] Informe altera\\u00e7\\u00e3o no pedido\", \"[Cliente] Detalhe os itens: 2 Atum ; 2 Alho Negro ; 2 Peito de peru e champignon\", \"[Cliente] Confirme que os itens do pedido est\\u00e3o corretos\", \"[Cliente] Informe o endere\\u00e7o: Vila Constan\\u00e7a N\\u00famero 949\", \"[Cliente] Pe\\u00e7a para pagar com PIX\", \"[Cliente] Avise que o pix foi feito\"]\t[\"[Sistema] Pergunte como pode ajudar o cliente\", \"[Sistema] Pergunte quais os itens do pedido\", \"[Sistema] Confirme os itens em uma lista enumerada\", \"[Sistema] Informe o total: R$ 69,98\", \"[Sistema] Pergunte o endere\\u00e7o\", \"[Sistema] Pergunte a forma de pagamento\", \"[Sistema] Informe que pode adicionar/alterar o que o cliente desejar\", \"[Sistema] Confirme os itens em uma lista enumerada\", \"[Sistema] Informe o total: R$ 68,47\", \"[Sistema] Pergunte o endere\\u00e7o\", \"[Sistema] Confirme os itens em uma lista enumerada\", \"[Sistema] Informe que pode adicionar/alterar o que o cliente desejar\", \"[Sistema] Confirme os itens em uma lista enumerada\", \"[Sistema] Informe o total: R$ 132,03\", \"[Sistema] Pergunte o endere\\u00e7o\", \"[Sistema] Pergunte a forma de pagamento\", \"[Sistema] Passe a chave CNPJ 43.091.266/4511-03 para PIX\", \"[Sistema] Confirme o pedido. Informe que est\\u00e1 sendo preparado e que vai demorar 60 minutos minutos\"]\n",
            "[\"A\", \"D\", \"E\", \"H\", \"i\", \"N\", \"O\", \"P\", \"Q\", \"R\", \"S\", \"AA\", \"AB\", \"X\"]\t[\"Start\", \"[Cliente] Inicie a conversa cumprimentando \", \"[Sistema] Pergunte como pode ajudar o cliente\", \"[Cliente] Fale que quer fazer pedido antes de informar os detalhes do pedido\", \"[Sistema] Pergunte quais os itens do pedido\", \"[Cliente] Detalhe os itens: 2 Cebola caramelizada\", \"[Sistema] Confirme os itens em uma lista enumerada\", \"[Cliente] Confirme que os itens do pedido est\\u00e3o corretos\", \"[Sistema] Informe o total: R$ 56,60\", \"[Sistema] Pergunte o endere\\u00e7o\", \"[Cliente] Informe o endere\\u00e7o: Ch\\u00e1cara Gaivotas N\\u00famero 872\", \"[Sistema] Pergunte a forma de pagamento\", \"[Cliente] Pergunte se pode adicionar mais um item\", \"[Sistema] Informe que pode adicionar/alterar o que o cliente desejar\", \"[Cliente] Informe altera\\u00e7\\u00e3o no pedido\", \"[Cliente] Detalhe os itens: 2 Pepperoni\", \"[Sistema] Confirme os itens em uma lista enumerada\", \"[Cliente] Confirme que os itens do pedido est\\u00e3o corretos\", \"[Sistema] Informe o total: R$ 134,38\", \"[Sistema] Pergunte o endere\\u00e7o\", \"\", \"[Cliente] Informe altera\\u00e7\\u00e3o no pedido\", \"[Cliente] Detalhe os itens: 2 Canadense ; 2 Palmito com catupiry\", \"[Sistema] Confirme os itens em uma lista enumerada\", \"\", \"[Cliente] Pergunte se pode adicionar mais um item\", \"[Sistema] Informe que pode adicionar/alterar o que o cliente desejar\", \"[Cliente] Informe altera\\u00e7\\u00e3o no pedido\", \"[Cliente] Detalhe os itens: 1 Quatro queijos ; 1 Marguerita ; 1 Atum com cream cheese e alho-por\\u00f3\", \"[Sistema] Confirme os itens em uma lista enumerada\", \"[Cliente] Confirme que os itens do pedido est\\u00e3o corretos\", \"[Sistema] Informe o total: R$ 100,66\", \"[Sistema] Pergunte o endere\\u00e7o\", \"[Cliente] Informe o endere\\u00e7o: \\u00c1gua Fria N\\u00famero 545\", \"[Sistema] Pergunte a forma de pagamento\", \"[Cliente] Pe\\u00e7a para pagar com PIX\", \"[Sistema] Passe a chave CNPJ 93.359.166/2497-35 para PIX\", \"[Cliente] Avise que o pix foi feito\", \"[Sistema] Confirme o pedido. Informe que est\\u00e1 sendo preparado e que vai demorar 60 minutos minutos\"]\t[\"[Cliente] Inicie a conversa cumprimentando \", \"[Cliente] Fale que quer fazer pedido antes de informar os detalhes do pedido\", \"[Cliente] Detalhe os itens: 2 Cebola caramelizada\", \"[Cliente] Confirme que os itens do pedido est\\u00e3o corretos\", \"[Cliente] Informe o endere\\u00e7o: Ch\\u00e1cara Gaivotas N\\u00famero 872\", \"[Cliente] Pergunte se pode adicionar mais um item\", \"[Cliente] Informe altera\\u00e7\\u00e3o no pedido\", \"[Cliente] Detalhe os itens: 2 Pepperoni\", \"[Cliente] Confirme que os itens do pedido est\\u00e3o corretos\", \"[Cliente] Informe altera\\u00e7\\u00e3o no pedido\", \"[Cliente] Detalhe os itens: 2 Canadense ; 2 Palmito com catupiry\", \"[Cliente] Pergunte se pode adicionar mais um item\", \"[Cliente] Informe altera\\u00e7\\u00e3o no pedido\", \"[Cliente] Detalhe os itens: 1 Quatro queijos ; 1 Marguerita ; 1 Atum com cream cheese e alho-por\\u00f3\", \"[Cliente] Confirme que os itens do pedido est\\u00e3o corretos\", \"[Cliente] Informe o endere\\u00e7o: \\u00c1gua Fria N\\u00famero 545\", \"[Cliente] Pe\\u00e7a para pagar com PIX\", \"[Cliente] Avise que o pix foi feito\"]\t[\"[Sistema] Pergunte como pode ajudar o cliente\", \"[Sistema] Pergunte quais os itens do pedido\", \"[Sistema] Confirme os itens em uma lista enumerada\", \"[Sistema] Informe o total: R$ 56,60\", \"[Sistema] Pergunte o endere\\u00e7o\", \"[Sistema] Pergunte a forma de pagamento\", \"[Sistema] Informe que pode adicionar/alterar o que o cliente desejar\", \"[Sistema] Confirme os itens em uma lista enumerada\", \"[Sistema] Informe o total: R$ 134,38\", \"[Sistema] Pergunte o endere\\u00e7o\", \"[Sistema] Confirme os itens em uma lista enumerada\", \"[Sistema] Informe que pode adicionar/alterar o que o cliente desejar\", \"[Sistema] Confirme os itens em uma lista enumerada\", \"[Sistema] Informe o total: R$ 100,66\", \"[Sistema] Pergunte o endere\\u00e7o\", \"[Sistema] Pergunte a forma de pagamento\", \"[Sistema] Passe a chave CNPJ 93.359.166/2497-35 para PIX\", \"[Sistema] Confirme o pedido. Informe que est\\u00e1 sendo preparado e que vai demorar 60 minutos minutos\"]\n",
            "[\"A\", \"F\", \"G\", \"H\", \"i\", \"N\", \"O\", \"P\", \"J\", \"M\", \"H\", \"i\", \"N\", \"O\", \"P\", \"Q\", \"R\", \"T\", \"X\"]\t[\"Start\", \"[Cliente] Inicie a conversa cumprimentando \", \"[Sistema] Pergunte como pode ajudar o cliente\", \"[Cliente] Fale que quer fazer pedido antes de informar os detalhes do pedido\", \"[Sistema] Pergunte quais os itens do pedido\", \"[Cliente] Detalhe os itens: Meia Frango \\u00e0 parmegiana e meia Palmito e Br\\u00f3colis\", \"[Sistema] Confirme os itens em uma lista enumerada\", \"[Cliente] Confirme que os itens do pedido est\\u00e3o corretos\", \"[Sistema] Informe o total: R$ 132,24\", \"[Sistema] Pergunte o endere\\u00e7o\", \"[Cliente] Informe o endere\\u00e7o: Vila Nova Utinga N\\u00famero 548\", \"[Sistema] Pergunte a forma de pagamento\", \"[Cliente] Pergunte se pode adicionar mais um item\", \"[Sistema] Informe que pode adicionar/alterar o que o cliente desejar\", \"[Cliente] Informe altera\\u00e7\\u00e3o no pedido\", \"[Cliente] Detalhe os itens: Meia Calabresa e meia Cebola caramelizada ; Meia Br\\u00f3colis e peito de peru e meia Peito de peru e champignon ; Meia Champignon e manjeric\\u00e3o e meia Frango com cheddar\", \"[Sistema] Confirme os itens em uma lista enumerada\", \"[Cliente] Confirme que os itens do pedido est\\u00e3o corretos\", \"[Sistema] Informe o total: R$ 126,36\", \"[Sistema] Pergunte o endere\\u00e7o\", \"\", \"[Cliente] Informe altera\\u00e7\\u00e3o no pedido\", \"[Cliente] Detalhe os itens: 1 Marguerita\", \"[Sistema] Confirme os itens em uma lista enumerada\", \"\", \"[Cliente] Pergunte se pode adicionar mais um item\", \"[Sistema] Informe que pode adicionar/alterar o que o cliente desejar\", \"[Cliente] Informe altera\\u00e7\\u00e3o no pedido\", \"[Cliente] Detalhe os itens: 2 Atum\", \"[Sistema] Confirme os itens em uma lista enumerada\", \"[Cliente] Confirme que os itens do pedido est\\u00e3o corretos\", \"[Sistema] Informe o total: R$ 123,26\", \"[Sistema] Pergunte o endere\\u00e7o\", \"[Cliente] Informe o endere\\u00e7o: Residencial Estoril Premium N\\u00famero 94\", \"[Sistema] Pergunte a forma de pagamento\", \"[Cliente] Pe\\u00e7a para pagar com PIX\", \"[Sistema] Passe a chave CNPJ 05.684.487/5011-55 para PIX\", \"[Cliente] Avise que o pix foi feito\", \"[Sistema] Confirme o pedido. Informe que est\\u00e1 sendo preparado e que vai demorar 60 minutos minutos\"]\t[\"[Cliente] Inicie a conversa cumprimentando \", \"[Cliente] Fale que quer fazer pedido antes de informar os detalhes do pedido\", \"[Cliente] Detalhe os itens: Meia Frango \\u00e0 parmegiana e meia Palmito e Br\\u00f3colis\", \"[Cliente] Confirme que os itens do pedido est\\u00e3o corretos\", \"[Cliente] Informe o endere\\u00e7o: Vila Nova Utinga N\\u00famero 548\", \"[Cliente] Pergunte se pode adicionar mais um item\", \"[Cliente] Informe altera\\u00e7\\u00e3o no pedido\", \"[Cliente] Detalhe os itens: Meia Calabresa e meia Cebola caramelizada ; Meia Br\\u00f3colis e peito de peru e meia Peito de peru e champignon ; Meia Champignon e manjeric\\u00e3o e meia Frango com cheddar\", \"[Cliente] Confirme que os itens do pedido est\\u00e3o corretos\", \"[Cliente] Informe altera\\u00e7\\u00e3o no pedido\", \"[Cliente] Detalhe os itens: 1 Marguerita\", \"[Cliente] Pergunte se pode adicionar mais um item\", \"[Cliente] Informe altera\\u00e7\\u00e3o no pedido\", \"[Cliente] Detalhe os itens: 2 Atum\", \"[Cliente] Confirme que os itens do pedido est\\u00e3o corretos\", \"[Cliente] Informe o endere\\u00e7o: Residencial Estoril Premium N\\u00famero 94\", \"[Cliente] Pe\\u00e7a para pagar com PIX\", \"[Cliente] Avise que o pix foi feito\"]\t[\"[Sistema] Pergunte como pode ajudar o cliente\", \"[Sistema] Pergunte quais os itens do pedido\", \"[Sistema] Confirme os itens em uma lista enumerada\", \"[Sistema] Informe o total: R$ 132,24\", \"[Sistema] Pergunte o endere\\u00e7o\", \"[Sistema] Pergunte a forma de pagamento\", \"[Sistema] Informe que pode adicionar/alterar o que o cliente desejar\", \"[Sistema] Confirme os itens em uma lista enumerada\", \"[Sistema] Informe o total: R$ 126,36\", \"[Sistema] Pergunte o endere\\u00e7o\", \"[Sistema] Confirme os itens em uma lista enumerada\", \"[Sistema] Informe que pode adicionar/alterar o que o cliente desejar\", \"[Sistema] Confirme os itens em uma lista enumerada\", \"[Sistema] Informe o total: R$ 123,26\", \"[Sistema] Pergunte o endere\\u00e7o\", \"[Sistema] Pergunte a forma de pagamento\", \"[Sistema] Passe a chave CNPJ 05.684.487/5011-55 para PIX\", \"[Sistema] Confirme o pedido. Informe que est\\u00e1 sendo preparado e que vai demorar 60 minutos minutos\"]\n",
            "[\"A\", \"D\", \"E\", \"H\", \"i\", \"J\", \"M\", \"H\", \"i\", \"N\", \"O\", \"P\", \"Q\", \"R\", \"K\", \"L\", \"M\", \"H\", \"i\", \"N\", \"O\", \"P\", \"J\", \"M\", \"H\", \"i\", \"N\", \"O\", \"P\", \"Q\", \"R\", \"S\", \"AA\", \"AB\", \"X\"]\t[\"Start\", \"[Cliente] Inicie a conversa cumprimentando \", \"[Sistema] Pergunte como pode ajudar o cliente\", \"[Cliente] Fale que quer fazer pedido antes de informar os detalhes do pedido\", \"[Sistema] Pergunte quais os itens do pedido\", \"[Cliente] Detalhe os itens: 1 Berinjela e abobrinha ; Meia Escarola e meia Mexicana ; 1 Calabresa com cheddar\", \"[Sistema] Confirme os itens em uma lista enumerada\", \"[Cliente] Confirme que os itens do pedido est\\u00e3o corretos\", \"[Sistema] Informe o total: R$ 118,79\", \"[Sistema] Pergunte o endere\\u00e7o\", \"[Cliente] Informe o endere\\u00e7o: Vila Nogueira N\\u00famero 632\", \"[Sistema] Pergunte a forma de pagamento\", \"[Cliente] Pergunte se pode adicionar mais um item\", \"[Sistema] Informe que pode adicionar/alterar o que o cliente desejar\", \"[Cliente] Informe altera\\u00e7\\u00e3o no pedido\", \"[Cliente] Detalhe os itens: Meia Francesa e meia Portuguesa ; 1 Francesa\", \"[Sistema] Confirme os itens em uma lista enumerada\", \"[Cliente] Confirme que os itens do pedido est\\u00e3o corretos\", \"[Sistema] Informe o total: R$ 59,07\", \"[Sistema] Pergunte o endere\\u00e7o\", \"\", \"[Cliente] Informe altera\\u00e7\\u00e3o no pedido\", \"[Cliente] Detalhe os itens: 1 Br\\u00f3colis e peito de peru ; Meia Peito de peru e champignon e meia Frango \\u00e0 parmegiana\", \"[Sistema] Confirme os itens em uma lista enumerada\", \"\", \"[Cliente] Pergunte se pode adicionar mais um item\", \"[Sistema] Informe que pode adicionar/alterar o que o cliente desejar\", \"[Cliente] Informe altera\\u00e7\\u00e3o no pedido\", \"[Cliente] Detalhe os itens: 2 Presunto com cheddar ; 2 Abobrinha com aveia\", \"[Sistema] Confirme os itens em uma lista enumerada\", \"[Cliente] Confirme que os itens do pedido est\\u00e3o corretos\", \"[Sistema] Informe o total: R$ 106,87\", \"[Sistema] Pergunte o endere\\u00e7o\", \"[Cliente] Informe o endere\\u00e7o: Jardim Nova Mar\\u00edlia N\\u00famero 122 Apartamento 679\", \"[Sistema] Pergunte a forma de pagamento\", \"[Cliente] Pe\\u00e7a para pagar com PIX\", \"[Sistema] Passe a chave CNPJ 44.309.148/2101-69 para PIX\", \"[Cliente] Avise que o pix foi feito\", \"[Sistema] Confirme o pedido. Informe que est\\u00e1 sendo preparado e que vai demorar 1 hora minutos\"]\t[\"[Cliente] Inicie a conversa cumprimentando \", \"[Cliente] Fale que quer fazer pedido antes de informar os detalhes do pedido\", \"[Cliente] Detalhe os itens: 1 Berinjela e abobrinha ; Meia Escarola e meia Mexicana ; 1 Calabresa com cheddar\", \"[Cliente] Confirme que os itens do pedido est\\u00e3o corretos\", \"[Cliente] Informe o endere\\u00e7o: Vila Nogueira N\\u00famero 632\", \"[Cliente] Pergunte se pode adicionar mais um item\", \"[Cliente] Informe altera\\u00e7\\u00e3o no pedido\", \"[Cliente] Detalhe os itens: Meia Francesa e meia Portuguesa ; 1 Francesa\", \"[Cliente] Confirme que os itens do pedido est\\u00e3o corretos\", \"[Cliente] Informe altera\\u00e7\\u00e3o no pedido\", \"[Cliente] Detalhe os itens: 1 Br\\u00f3colis e peito de peru ; Meia Peito de peru e champignon e meia Frango \\u00e0 parmegiana\", \"[Cliente] Pergunte se pode adicionar mais um item\", \"[Cliente] Informe altera\\u00e7\\u00e3o no pedido\", \"[Cliente] Detalhe os itens: 2 Presunto com cheddar ; 2 Abobrinha com aveia\", \"[Cliente] Confirme que os itens do pedido est\\u00e3o corretos\", \"[Cliente] Informe o endere\\u00e7o: Jardim Nova Mar\\u00edlia N\\u00famero 122 Apartamento 679\", \"[Cliente] Pe\\u00e7a para pagar com PIX\", \"[Cliente] Avise que o pix foi feito\"]\t[\"[Sistema] Pergunte como pode ajudar o cliente\", \"[Sistema] Pergunte quais os itens do pedido\", \"[Sistema] Confirme os itens em uma lista enumerada\", \"[Sistema] Informe o total: R$ 118,79\", \"[Sistema] Pergunte o endere\\u00e7o\", \"[Sistema] Pergunte a forma de pagamento\", \"[Sistema] Informe que pode adicionar/alterar o que o cliente desejar\", \"[Sistema] Confirme os itens em uma lista enumerada\", \"[Sistema] Informe o total: R$ 59,07\", \"[Sistema] Pergunte o endere\\u00e7o\", \"[Sistema] Confirme os itens em uma lista enumerada\", \"[Sistema] Informe que pode adicionar/alterar o que o cliente desejar\", \"[Sistema] Confirme os itens em uma lista enumerada\", \"[Sistema] Informe o total: R$ 106,87\", \"[Sistema] Pergunte o endere\\u00e7o\", \"[Sistema] Pergunte a forma de pagamento\", \"[Sistema] Passe a chave CNPJ 44.309.148/2101-69 para PIX\", \"[Sistema] Confirme o pedido. Informe que est\\u00e1 sendo preparado e que vai demorar 1 hora minutos\"]\n",
            "[\"A\", \"D\", \"E\", \"H\", \"i\", \"N\", \"O\", \"P\", \"J\", \"K\", \"L\", \"M\", \"H\", \"i\", \"J\", \"K\", \"L\", \"M\", \"H\", \"i\", \"N\", \"O\", \"P\", \"J\", \"M\", \"H\", \"i\", \"N\", \"O\", \"P\", \"Q\", \"R\", \"S\", \"AA\", \"AB\", \"X\"]\t[\"Start\", \"[Cliente] Inicie a conversa cumprimentando \", \"[Sistema] Pergunte como pode ajudar o cliente\", \"[Cliente] Fale que quer fazer pedido antes de informar os detalhes do pedido\", \"[Sistema] Pergunte quais os itens do pedido\", \"[Cliente] Detalhe os itens: Meia Atum e meia Abobrinha com requeij\\u00e3o ; 1 Escarola ; Meia Portuguesa e meia Tribeca\", \"[Sistema] Confirme os itens em uma lista enumerada\", \"[Cliente] Confirme que os itens do pedido est\\u00e3o corretos\", \"[Sistema] Informe o total: R$ 122,22\", \"[Sistema] Pergunte o endere\\u00e7o\", \"[Cliente] Informe o endere\\u00e7o: Vila das Merc\\u00eas N\\u00famero 273\", \"[Sistema] Pergunte a forma de pagamento\", \"[Cliente] Pergunte se pode adicionar mais um item\", \"[Sistema] Informe que pode adicionar/alterar o que o cliente desejar\", \"[Cliente] Informe altera\\u00e7\\u00e3o no pedido\", \"[Cliente] Detalhe os itens: Meia Pepperoni e meia Palmito e champignon ; 2 R\\u00facula ; 1 Americana\", \"[Sistema] Confirme os itens em uma lista enumerada\", \"[Cliente] Confirme que os itens do pedido est\\u00e3o corretos\", \"[Sistema] Informe o total: R$ 66,74\", \"[Sistema] Pergunte o endere\\u00e7o\", \"\", \"[Cliente] Informe altera\\u00e7\\u00e3o no pedido\", \"[Cliente] Detalhe os itens: 1 Scamorza ; 2 Alho e \\u00f3leo ; 1 Cebola caramelizada\", \"[Sistema] Confirme os itens em uma lista enumerada\", \"\", \"[Cliente] Pergunte se pode adicionar mais um item\", \"[Sistema] Informe que pode adicionar/alterar o que o cliente desejar\", \"[Cliente] Informe altera\\u00e7\\u00e3o no pedido\", \"[Cliente] Detalhe os itens: 1 Frango com cheddar ; 2 Jardineira ; 1 Cream cheese com abobrinha\", \"[Sistema] Confirme os itens em uma lista enumerada\", \"[Cliente] Confirme que os itens do pedido est\\u00e3o corretos\", \"[Sistema] Informe o total: R$ 111,71\", \"[Sistema] Pergunte o endere\\u00e7o\", \"[Cliente] Informe o endere\\u00e7o: Jardim Santa Maria N\\u00famero 279\", \"[Sistema] Pergunte a forma de pagamento\", \"[Cliente] Pe\\u00e7a para pagar com PIX\", \"[Sistema] Passe a chave CNPJ 19.048.505/5469-30 para PIX\", \"[Cliente] Avise que o pix foi feito\", \"[Sistema] Confirme o pedido. Informe que est\\u00e1 sendo preparado e que vai demorar 2 horas minutos\"]\t[\"[Cliente] Inicie a conversa cumprimentando \", \"[Cliente] Fale que quer fazer pedido antes de informar os detalhes do pedido\", \"[Cliente] Detalhe os itens: Meia Atum e meia Abobrinha com requeij\\u00e3o ; 1 Escarola ; Meia Portuguesa e meia Tribeca\", \"[Cliente] Confirme que os itens do pedido est\\u00e3o corretos\", \"[Cliente] Informe o endere\\u00e7o: Vila das Merc\\u00eas N\\u00famero 273\", \"[Cliente] Pergunte se pode adicionar mais um item\", \"[Cliente] Informe altera\\u00e7\\u00e3o no pedido\", \"[Cliente] Detalhe os itens: Meia Pepperoni e meia Palmito e champignon ; 2 R\\u00facula ; 1 Americana\", \"[Cliente] Confirme que os itens do pedido est\\u00e3o corretos\", \"[Cliente] Informe altera\\u00e7\\u00e3o no pedido\", \"[Cliente] Detalhe os itens: 1 Scamorza ; 2 Alho e \\u00f3leo ; 1 Cebola caramelizada\", \"[Cliente] Pergunte se pode adicionar mais um item\", \"[Cliente] Informe altera\\u00e7\\u00e3o no pedido\", \"[Cliente] Detalhe os itens: 1 Frango com cheddar ; 2 Jardineira ; 1 Cream cheese com abobrinha\", \"[Cliente] Confirme que os itens do pedido est\\u00e3o corretos\", \"[Cliente] Informe o endere\\u00e7o: Jardim Santa Maria N\\u00famero 279\", \"[Cliente] Pe\\u00e7a para pagar com PIX\", \"[Cliente] Avise que o pix foi feito\"]\t[\"[Sistema] Pergunte como pode ajudar o cliente\", \"[Sistema] Pergunte quais os itens do pedido\", \"[Sistema] Confirme os itens em uma lista enumerada\", \"[Sistema] Informe o total: R$ 122,22\", \"[Sistema] Pergunte o endere\\u00e7o\", \"[Sistema] Pergunte a forma de pagamento\", \"[Sistema] Informe que pode adicionar/alterar o que o cliente desejar\", \"[Sistema] Confirme os itens em uma lista enumerada\", \"[Sistema] Informe o total: R$ 66,74\", \"[Sistema] Pergunte o endere\\u00e7o\", \"[Sistema] Confirme os itens em uma lista enumerada\", \"[Sistema] Informe que pode adicionar/alterar o que o cliente desejar\", \"[Sistema] Confirme os itens em uma lista enumerada\", \"[Sistema] Informe o total: R$ 111,71\", \"[Sistema] Pergunte o endere\\u00e7o\", \"[Sistema] Pergunte a forma de pagamento\", \"[Sistema] Passe a chave CNPJ 19.048.505/5469-30 para PIX\", \"[Sistema] Confirme o pedido. Informe que est\\u00e1 sendo preparado e que vai demorar 2 horas minutos\"]\n",
            "[\"A\", \"B\", \"C\", \"D\", \"E\", \"H\", \"i\", \"N\", \"O\", \"P\", \"J\", \"M\", \"H\", \"i\", \"N\", \"O\", \"P\", \"Q\", \"R\", \"S\", \"AA\", \"AB\", \"X\"]\t[\"Start\", \"[Cliente] Inicie a conversa cumprimentando \", \"[Sistema] Pergunte como pode ajudar o cliente\", \"[Cliente] Fale que quer fazer pedido antes de informar os detalhes do pedido\", \"[Sistema] Pergunte quais os itens do pedido\", \"[Cliente] Detalhe os itens: 1 Alho Negro ; 1 Abobrinha com aveia ; 2 Palmito e Br\\u00f3colis\", \"[Sistema] Confirme os itens em uma lista enumerada\", \"[Cliente] Confirme que os itens do pedido est\\u00e3o corretos\", \"[Sistema] Informe o total: R$ 101,57\", \"[Sistema] Pergunte o endere\\u00e7o\", \"[Cliente] Informe o endere\\u00e7o: Jardim Taquaral N\\u00famero 983\", \"[Sistema] Pergunte a forma de pagamento\", \"[Cliente] Pergunte se pode adicionar mais um item\", \"[Sistema] Informe que pode adicionar/alterar o que o cliente desejar\", \"[Cliente] Informe altera\\u00e7\\u00e3o no pedido\", \"[Cliente] Detalhe os itens: 2 Frango \\u00e0 parmegiana ; 2 Frango com palmito ; 1 Palmito e Br\\u00f3colis\", \"[Sistema] Confirme os itens em uma lista enumerada\", \"[Cliente] Confirme que os itens do pedido est\\u00e3o corretos\", \"[Sistema] Informe o total: R$ 68,00\", \"[Sistema] Pergunte o endere\\u00e7o\", \"\", \"[Cliente] Informe altera\\u00e7\\u00e3o no pedido\", \"[Cliente] Detalhe os itens: 1 Cebola caramelizada ; Meia Atum com palmito e meia Atum\", \"[Sistema] Confirme os itens em uma lista enumerada\", \"\", \"[Cliente] Pergunte se pode adicionar mais um item\", \"[Sistema] Informe que pode adicionar/alterar o que o cliente desejar\", \"[Cliente] Informe altera\\u00e7\\u00e3o no pedido\", \"[Cliente] Detalhe os itens: 1 Camar\\u00e3o\", \"[Sistema] Confirme os itens em uma lista enumerada\", \"[Cliente] Confirme que os itens do pedido est\\u00e3o corretos\", \"[Sistema] Informe o total: R$ 61,38\", \"[Sistema] Pergunte o endere\\u00e7o\", \"[Cliente] Informe o endere\\u00e7o: Vila Firmiano Pinto N\\u00famero 970\", \"[Sistema] Pergunte a forma de pagamento\", \"[Cliente] Pe\\u00e7a para pagar com PIX\", \"[Sistema] Passe a chave CNPJ 84.040.187/4044-26 para PIX\", \"[Cliente] Avise que o pix foi feito\", \"[Sistema] Confirme o pedido. Informe que est\\u00e1 sendo preparado e que vai demorar 60 minutos minutos\"]\t[\"[Cliente] Inicie a conversa cumprimentando \", \"[Cliente] Fale que quer fazer pedido antes de informar os detalhes do pedido\", \"[Cliente] Detalhe os itens: 1 Alho Negro ; 1 Abobrinha com aveia ; 2 Palmito e Br\\u00f3colis\", \"[Cliente] Confirme que os itens do pedido est\\u00e3o corretos\", \"[Cliente] Informe o endere\\u00e7o: Jardim Taquaral N\\u00famero 983\", \"[Cliente] Pergunte se pode adicionar mais um item\", \"[Cliente] Informe altera\\u00e7\\u00e3o no pedido\", \"[Cliente] Detalhe os itens: 2 Frango \\u00e0 parmegiana ; 2 Frango com palmito ; 1 Palmito e Br\\u00f3colis\", \"[Cliente] Confirme que os itens do pedido est\\u00e3o corretos\", \"[Cliente] Informe altera\\u00e7\\u00e3o no pedido\", \"[Cliente] Detalhe os itens: 1 Cebola caramelizada ; Meia Atum com palmito e meia Atum\", \"[Cliente] Pergunte se pode adicionar mais um item\", \"[Cliente] Informe altera\\u00e7\\u00e3o no pedido\", \"[Cliente] Detalhe os itens: 1 Camar\\u00e3o\", \"[Cliente] Confirme que os itens do pedido est\\u00e3o corretos\", \"[Cliente] Informe o endere\\u00e7o: Vila Firmiano Pinto N\\u00famero 970\", \"[Cliente] Pe\\u00e7a para pagar com PIX\", \"[Cliente] Avise que o pix foi feito\"]\t[\"[Sistema] Pergunte como pode ajudar o cliente\", \"[Sistema] Pergunte quais os itens do pedido\", \"[Sistema] Confirme os itens em uma lista enumerada\", \"[Sistema] Informe o total: R$ 101,57\", \"[Sistema] Pergunte o endere\\u00e7o\", \"[Sistema] Pergunte a forma de pagamento\", \"[Sistema] Informe que pode adicionar/alterar o que o cliente desejar\", \"[Sistema] Confirme os itens em uma lista enumerada\", \"[Sistema] Informe o total: R$ 68,00\", \"[Sistema] Pergunte o endere\\u00e7o\", \"[Sistema] Confirme os itens em uma lista enumerada\", \"[Sistema] Informe que pode adicionar/alterar o que o cliente desejar\", \"[Sistema] Confirme os itens em uma lista enumerada\", \"[Sistema] Informe o total: R$ 61,38\", \"[Sistema] Pergunte o endere\\u00e7o\", \"[Sistema] Pergunte a forma de pagamento\", \"[Sistema] Passe a chave CNPJ 84.040.187/4044-26 para PIX\", \"[Sistema] Confirme o pedido. Informe que est\\u00e1 sendo preparado e que vai demorar 60 minutos minutos\"]\n"
          ]
        }
      ]
    }
  ]
}